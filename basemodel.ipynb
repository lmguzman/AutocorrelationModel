{
 "cells": [
  {
   "cell_type": "code",
   "execution_count": 1,
   "metadata": {
    "collapsed": true
   },
   "outputs": [],
   "source": [
    "import numpy as np"
   ]
  },
  {
   "cell_type": "code",
   "execution_count": 165,
   "metadata": {
    "collapsed": false
   },
   "outputs": [],
   "source": [
    "a = np.array([0.3, 0.35])\n",
    "prednum = 2\n",
    "patch = 3\n",
    "N0 = 10\n",
    "P0 = 5\n",
    "c = np.array([0.4,0.4])\n",
    "m1 = 0.1\n",
    "m2 = [0.1, 0.1]\n",
    "w = [1, 2]\n",
    "k = 10**10\n",
    "numruns = 5\n",
    "gens = 1000\n",
    "mn = -0.1\n",
    "t = 10**-20\n",
    "rho = 0.5\n",
    "std = 0.7"
   ]
  },
  {
   "cell_type": "code",
   "execution_count": 66,
   "metadata": {
    "collapsed": false
   },
   "outputs": [],
   "source": [
    "allrand = np.random.randn(patch*numruns*(gens + 1)).reshape(gens+1, patch, numruns)"
   ]
  },
  {
   "cell_type": "code",
   "execution_count": 67,
   "metadata": {
    "collapsed": false
   },
   "outputs": [],
   "source": [
    "ipops = np.array([N0]*(patch*numruns)).reshape(patch, numruns)"
   ]
  },
  {
   "cell_type": "code",
   "execution_count": 106,
   "metadata": {
    "collapsed": false
   },
   "outputs": [],
   "source": [
    "ippops = np.array([P0]*(patch*numruns*prednum)).reshape(prednum,patch, numruns)"
   ]
  },
  {
   "cell_type": "code",
   "execution_count": 69,
   "metadata": {
    "collapsed": false
   },
   "outputs": [],
   "source": [
    "noise = allrand[1,:,:]"
   ]
  },
  {
   "cell_type": "code",
   "execution_count": 71,
   "metadata": {
    "collapsed": false
   },
   "outputs": [],
   "source": [
    "rt1 = rho*noise + np.sqrt(1- rho**2)* allrand[i, :, :]"
   ]
  },
  {
   "cell_type": "code",
   "execution_count": 171,
   "metadata": {
    "collapsed": false
   },
   "outputs": [],
   "source": [
    "a = a[:, np.newaxis, np.newaxis]"
   ]
  },
  {
   "cell_type": "code",
   "execution_count": 167,
   "metadata": {
    "collapsed": false
   },
   "outputs": [
    {
     "data": {
      "text/plain": [
       "array([[[ 0.4]],\n",
       "\n",
       "       [[ 0.4]]])"
      ]
     },
     "execution_count": 167,
     "metadata": {},
     "output_type": "execute_result"
    }
   ],
   "source": [
    "c = c[:, np.newaxis, np.newaxis]\n",
    "c"
   ]
  },
  {
   "cell_type": "code",
   "execution_count": 175,
   "metadata": {
    "collapsed": false
   },
   "outputs": [],
   "source": [
    "inter = a*ippops"
   ]
  },
  {
   "cell_type": "code",
   "execution_count": 176,
   "metadata": {
    "collapsed": false
   },
   "outputs": [
    {
     "data": {
      "text/plain": [
       "array([[ 3.25,  3.25,  3.25,  3.25,  3.25],\n",
       "       [ 3.25,  3.25,  3.25,  3.25,  3.25],\n",
       "       [ 3.25,  3.25,  3.25,  3.25,  3.25]])"
      ]
     },
     "execution_count": 176,
     "metadata": {},
     "output_type": "execute_result"
    }
   ],
   "source": [
    "inter.sum(axis = 0)"
   ]
  },
  {
   "cell_type": "code",
   "execution_count": 146,
   "metadata": {
    "collapsed": false
   },
   "outputs": [],
   "source": [
    "newprey = noise*np.exp(ipops/k)*np.exp(-1*inter.sum(axis = 0))"
   ]
  },
  {
   "cell_type": "code",
   "execution_count": 168,
   "metadata": {
    "collapsed": false
   },
   "outputs": [
    {
     "data": {
      "text/plain": [
       "array([[[ 3.10747936,  3.10747936,  3.10747936,  3.10747936,  3.10747936],\n",
       "        [ 3.10747936,  3.10747936,  3.10747936,  3.10747936,  3.10747936],\n",
       "        [ 3.10747936,  3.10747936,  3.10747936,  3.10747936,  3.10747936]],\n",
       "\n",
       "       [[ 3.30490423,  3.30490423,  3.30490423,  3.30490423,  3.30490423],\n",
       "        [ 3.30490423,  3.30490423,  3.30490423,  3.30490423,  3.30490423],\n",
       "        [ 3.30490423,  3.30490423,  3.30490423,  3.30490423,  3.30490423]]])"
      ]
     },
     "execution_count": 168,
     "metadata": {},
     "output_type": "execute_result"
    }
   ],
   "source": [
    "c*ipops*(1-np.exp(-1*inter))"
   ]
  },
  {
   "cell_type": "code",
   "execution_count": 169,
   "metadata": {
    "collapsed": false
   },
   "outputs": [
    {
     "data": {
      "text/plain": [
       "False"
      ]
     },
     "execution_count": 169,
     "metadata": {},
     "output_type": "execute_result"
    }
   ],
   "source": [
    "w < w"
   ]
  },
  {
   "cell_type": "code",
   "execution_count": null,
   "metadata": {
    "collapsed": true
   },
   "outputs": [],
   "source": []
  }
 ],
 "metadata": {
  "kernelspec": {
   "display_name": "Python 3",
   "language": "python",
   "name": "python3"
  },
  "language_info": {
   "codemirror_mode": {
    "name": "ipython",
    "version": 3
   },
   "file_extension": ".py",
   "mimetype": "text/x-python",
   "name": "python",
   "nbconvert_exporter": "python",
   "pygments_lexer": "ipython3",
   "version": "3.5.0"
  }
 },
 "nbformat": 4,
 "nbformat_minor": 0
}
